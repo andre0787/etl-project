{
 "cells": [
  {
   "cell_type": "markdown",
   "metadata": {},
   "source": [
    "# Análise e Transformação de Dados de Vendas\n",
    "\n",
    "Neste notebook, vamos explorar como processar dados de vendas."
   ]
  },
  {
   "cell_type": "code",
   "execution_count": null,
   "metadata": {},
   "source": [
    "import pandas as pd\n",
    "import numpy as np\n",
    "from datetime import datetime\n",
    "\n",
    "# Criar dados de exemplo\n",
    "dados = {\n",
    "    'data_venda': ['2024-01-01', '2024-01-01', '2024-01-02'],\n",
    "    'produto': ['Produto A', 'Produto B', 'Produto A'],\n",
    "    'valor': [100.50, 200.75, 150.25],\n",
    "    'quantidade': [2, 1, 3]\n",
    "}\n",
    "\n",
    "df = pd.DataFrame(dados)\n",
    "df.to_csv('dados_vendas.csv', index=False)\n",
    "df.head()"
   ]
  },
  {
   "cell_type": "markdown",
   "metadata": {},
   "source": [
    "## Transformações necessárias:\n",
    "1. Converter data para datetime\n",
    "2. Calcular valor total por venda\n",
    "3. Adicionar informações de mês e ano"
   ]
  },
  {
   "cell_type": "code",
   "execution_count": null,
   "metadata": {},
   "source": [
    "# Testando transformações\n",
    "df['data_venda'] = pd.to_datetime(df['data_venda'])\n",
    "df['valor_total'] = df['valor'] * df['quantidade']\n",
    "df['mes'] = df['data_venda'].dt.month\n",
    "df['ano'] = df['data_venda'].dt.year\n",
    "\n",
    "# Agrupando por produto\n",
    "resumo = df.groupby('produto').agg({\n",
    "    'valor_total': 'sum',\n",
    "    'quantidade': 'sum'\n",
    "}).reset_index()\n",
    "\n",
    "print(\"\\nResumo por produto:\")\n",
    "print(resumo)"
   ]
  }
 ],
 "metadata": {
  "kernelspec": {
   "display_name": "Python 3",
   "language": "python",
   "name": "python3"
  }
 },
 "nbformat": 4,
 "nbformat_minor": 4
}
