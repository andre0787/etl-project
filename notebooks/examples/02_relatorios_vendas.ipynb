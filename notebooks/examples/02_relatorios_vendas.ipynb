{
 "cells": [
  {
   "cell_type": "markdown",
   "metadata": {},
   "source": [
    "# Exemplo de Geração de Relatórios de Vendas\n",
    "\n",
    "Este notebook demonstra como usar o módulo de relatórios para gerar visualizações e relatórios de vendas."
   ]
  },
  {
   "cell_type": "code",
   "execution_count": null,
   "metadata": {},
   "source": [
    "import pandas as pd\n",
    "from pathlib import Path\n",
    "from etl_project.reports.sales_report import SalesReport"
   ]
  },
  {
   "cell_type": "code",
   "execution_count": null,
   "metadata": {},
   "source": [
    "# Criar dados de exemplo\n",
    "data = {\n",
    "    'date': pd.date_range(start='2024-01-01', periods=10),\n",
    "    'product': ['Produto A', 'Produto B', 'Produto A', 'Produto C', 'Produto B',\n",
    "                'Produto C', 'Produto A', 'Produto B', 'Produto C', 'Produto A'],\n",
    "    'quantity': [10, 5, 8, 12, 6, 15, 7, 9, 11, 13],\n",
    "    'price': [100.50, 50.25, 100.50, 75.00, 50.25, 75.00, 100.50, 50.25, 75.00, 100.50],\n",
    "    'total_value': [1005.00, 251.25, 804.00, 900.00, 301.50, 1125.00, 703.50, 452.25, 825.00, 1306.50]\n",
    "}\n",
    "\n",
    "df = pd.DataFrame(data)"
   ]
  },
  {
   "cell_type": "code",
   "execution_count": null,
   "metadata": {},
   "source": [
    "# Criar diretório para os relatórios\n",
    "output_dir = Path('..', '..', 'data', 'output', 'reports')\n",
    "report = SalesReport(str(output_dir))"
   ]
  },
  {
   "cell_type": "code",
   "execution_count": null,
   "metadata": {},
   "source": [
    "# Gerar gráfico de vendas diárias\n",
    "report.plot_daily_sales(df, 'vendas_diarias.html')"
   ]
  },
  {
   "cell_type": "code",
   "execution_count": null,
   "metadata": {},
   "source": [
    "# Gerar gráfico de resumo por produto\n",
    "report.plot_product_summary(df, 'resumo_produtos.html')"
   ]
  },
  {
   "cell_type": "code",
   "execution_count": null,
   "metadata": {},
   "source": [
    "# Gerar relatório em PDF\n",
    "report.generate_pdf_report(df, 'relatorio_vendas.pdf')"
   ]
  }
 ],
 "metadata": {
  "language_info": {
   "name": "python"
  }
 },
 "nbformat": 4,
 "nbformat_minor": 2
}
